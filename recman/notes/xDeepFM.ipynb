{
 "cells": [
  {
   "cell_type": "markdown",
   "metadata": {},
   "source": [
    "# xDeepFM"
   ]
  },
  {
   "cell_type": "markdown",
   "metadata": {},
   "source": [
    "## Introduction\n",
    "\n",
    "It is easy to think of the model is probably composed of three parts by seeing the word xDeepFM. \n",
    "They are, **x**, **deep**, **fm**. \n",
    "Corresponding to the context of the deep neural network, \n",
    "**deep** stands for **multilayer perceptron**, \n",
    "**fm** refers to **factorization machine**. \n",
    "x stands for extreme. \n",
    "\n",
    "It seems that this name appears to be the enhanced version of DeepFM, \n",
    "but in fact, and his real first-degree close relatives should be Deep&Cross Network, then DeepFM.\n",
    "\n",
    "The structure of DeepFM is very intuitive. \n",
    "One of the main take-aways is that **FM** and **Deep** share the same input Embeddings."
   ]
  },
  {
   "cell_type": "markdown",
   "metadata": {},
   "source": [
    "## Motivations\n",
    "\n",
    "So what problem the xDeepFM is mainly to solve? \n",
    "The primary role of the DCN's Cross-layer is to construct higher-order features automatically, but they exist in a bit-wise manner. \n",
    "For example, assume there are two fields, Age & Occupation, \n",
    "let's call the embedding vector corresponding to Age Field <a1, b1, c1>, \n",
    "embedding vector to Occupation field <a1, a2, a3>. \n",
    "\n",
    "In DCN, the Cross-layer takes the direct input as <a1,b1,c1,a2,b2,c2>, \n",
    "which is simply a concatenated vector of all bits in the embedding layer, \n",
    "however, the interaction between the bit and the field (where \"bit\" belongs to) has to be ignored entirely. \n",
    "\n",
    "Cross-layer uses \"bit\" as the finest granularity for learning, \n",
    "while FM uses \"vector\" as the finest units to learn the feature to feature interaction, i.e., vector-wise. \n",
    "xDeepFM is motivated to solve how to introduce the vector-wise learning, like what FM does into the cross-layer."
   ]
  },
  {
   "cell_type": "markdown",
   "metadata": {},
   "source": [
    "## Models\n",
    "We design a new cross network, named Compressed Interaction\n",
    "Network (CIN), with the following considerations: (1) interactions\n",
    "are applied at vector-wise level, not at bit-wise level; (2) high-order\n",
    "feature interactions is measured explicitly; (3) the complexity of\n",
    "network will not grow exponentially with the degree of interactions.\n",
    "Since an embedding vector is regarded as a unit for vector-wise\n",
    "interactions, hereafter we formulate the output of field embedding\n",
    "as a matrix X\n",
    "\n",
    "0 ∈ R\n",
    "m×D , where the i-th row in X\n",
    "0\n",
    "is the embedding\n",
    "vector of the i-th field: X\n",
    "0\n",
    "i,∗\n",
    "= ei\n",
    ", and D is the dimension of the field\n",
    "embedding. The output of the k-th layer in CIN is also a matrix\n",
    "X\n",
    "k ∈ R\n",
    "Hk×D , whereHk denotes the number of (embedding) feature\n",
    "vectors in the k-th layer and we let H0 = m. For each layer, X\n",
    "k\n",
    "are\n",
    "Network Architecture: \n",
    "![xDeepFM](images/xDeepFM_arch.jpg)\n"
   ]
  },
  {
   "cell_type": "code",
   "execution_count": 3,
   "metadata": {
    "pycharm": {
     "is_executing": false
    }
   },
   "outputs": [],
   "source": [
    "import tensorflow as tf\n",
    "import pandas as pd\n",
    "import numpy as np\n",
    "from recman.layers import CIN"
   ]
  },
  {
   "cell_type": "code",
   "execution_count": null,
   "metadata": {},
   "outputs": [],
   "source": [
    "tf.one_hot"
   ]
  },
  {
   "cell_type": "code",
   "execution_count": 11,
   "metadata": {
    "collapsed": false,
    "jupyter": {
     "outputs_hidden": false
    },
    "pycharm": {
     "is_executing": false,
     "name": "#%%\n"
    }
   },
   "outputs": [],
   "source": [
    "cin_cross_layer_units = (16, 16)\n",
    "embedding_size = 4\n",
    "final_results = []\n",
    "\n",
    "field_age = tf.constant([[1, 2, 3, 4]], dtype=tf.float32)\n",
    "field_occ = tf.constant([[5, 6, 7, 8]], dtype=tf.float32)\n",
    "field_size_0 = 2\n",
    "\n",
    "field_input = tf.concat([field_age, field_occ], axis=1)\n",
    "field_input = tf.reshape(field_input, shape=(1, 2, 4))  # 1 * 2 * 4\n",
    "\n",
    "split_tensor_0 = tf.split(field_input, embedding_size * [1], axis=2)  # 4 * (1 * 2 * 1)\n",
    "split_tensor = tf.split(field_input, embedding_size * [1], axis=2)  # 4 * (1 * 2 * 1)\n",
    "\n",
    "dot_result_m_0 = tf.matmul(\n",
    "    split_tensor_0, split_tensor, transpose_b=True\n",
    ")  # 4 * 1 * 2 * 2\n",
    "dot_result_o_0 = tf.reshape(\n",
    "    dot_result_m_0, shape=[embedding_size, -1, field_size_0 * field_size_0]\n",
    ")  # 4 * 1 * 4\n",
    "dot_result_0 = tf.transpose(dot_result_o_0, perm=[1, 0, 2])  # 1 * 4 * 4\n",
    "\n",
    "filter_0 = tf.ones(\n",
    "    shape=(1, 2 * 2, cin_cross_layer_units[0])\n",
    ")  # last dim 4 is the cross_layer_size\n",
    "feat_map_0 = tf.nn.conv1d(\n",
    "    dot_result_0, filters=filter_0, stride=1, padding=\"VALID\"\n",
    ")  # 1 * 4 * 8\n",
    "# flip the row and column, 1 * 8 * 4\n",
    "feat_map_transpose_0 = tf.transpose(feat_map_0, perm=[0, 2, 1])\n",
    "# cut it into 2 parts up and down\n",
    "next_hidden_0, direct_connect_0 = tf.split(\n",
    "    feat_map_transpose_0, 2 * [cin_cross_layer_units[0] // 2], 1\n",
    ")\n",
    "field_size_1 = cin_cross_layer_units[0] // 2\n",
    "final_results.append(direct_connect_0)\n",
    "\n",
    "split_tensor_1 = tf.split(next_hidden_0, embedding_size * [1], axis=2)\n",
    "dot_result_m_1 = tf.matmul(split_tensor_0, split_tensor_1, transpose_b=True) # 4 * 1 * 2 * 4\n",
    "dot_result_o_1 = tf.reshape(dot_result_m_1, shape=[embedding_size, -1, field_size_0 * field_size_1]) # 4 * 2 * 4\n",
    "dot_result_1 = tf.transpose(dot_result_o_1, perm=[1, 0, 2]) # 2 * 4 * 4\n",
    "\n",
    "filter_1 = tf.ones(\n",
    "    shape=(1, field_size_1 * field_size_0, cin_cross_layer_units[1])\n",
    ") # 1 * 8 * 8\n",
    "feat_map_1 = tf.nn.conv1d(dot_result_1, filters=filter_1, stride=1, padding=\"VALID\") # 1 * 4 * 8\n",
    "\n",
    "direct_connect_1 = tf.transpose(feat_map_1, perm=[0, 2, 1])\n",
    "final_results.append(direct_connect_1)\n",
    "\n",
    "result = tf.concat(final_results, axis=1)\n",
    "result = tf.reduce_sum(result, axis=-1, keepdims=False)"
   ]
  },
  {
   "cell_type": "code",
   "execution_count": 10,
   "metadata": {
    "collapsed": false,
    "jupyter": {
     "outputs_hidden": false
    },
    "pycharm": {
     "is_executing": false,
     "name": "#%%\n"
    }
   },
   "outputs": [],
   "source": [
    "with tf.Session() as sess:\n",
    "    sess.run(tf.global_variables_initializer())\n",
    "    r_field_input = sess.run(field_input)     \n",
    "    r_split_tensor_0 = sess.run(split_tensor_0) # 4 None * 2 * 1\n",
    "    r_dot_result_m_0 = sess.run(dot_result_m_0)\n",
    "    r_dot_result_o_0 = sess.run(dot_result_o_0)\n",
    "    r_dot_result_0 = sess.run(dot_result_0)\n",
    "    r_feat_map_0 = sess.run(feat_map_0)\n",
    "    r_feat_map_transpose_0 = sess.run(feat_map_transpose_0)\n",
    "    r_next_hidden_0 = sess.run(next_hidden_0)\n",
    "    r_split_tensor_1 = sess.run(split_tensor_1)\n",
    "    r_dot_result_m_1 = sess.run(dot_result_m_1)\n",
    "    r_dot_result_o_1 = sess.run(dot_result_o_1)\n",
    "    r_dot_result_1 = sess.run(dot_result_1)\n",
    "    r_feat_map_1 = sess.run(feat_map_1)\n",
    "    r_direct_connect_1 = sess.run(direct_connect_1)\n",
    "    r_result = sess.run(direct_connect_1)"
   ]
  },
  {
   "cell_type": "code",
   "execution_count": null,
   "metadata": {
    "collapsed": false,
    "jupyter": {
     "outputs_hidden": false
    },
    "pycharm": {
     "name": "#%%\n"
    }
   },
   "outputs": [],
   "source": [
    "print([[[1, 2, 3, 4]] * 4])\n",
    "\n"
   ]
  },
  {
   "cell_type": "code",
   "execution_count": null,
   "metadata": {
    "collapsed": false,
    "jupyter": {
     "outputs_hidden": false
    },
    "pycharm": {
     "name": "#%%\n"
    }
   },
   "outputs": [],
   "source": [
    "print([[[1, 2, 3, 4]] * 4])\n",
    "\n"
   ]
  }
 ],
 "metadata": {
  "kernelspec": {
   "display_name": "Python 3",
   "language": "python",
   "name": "python3"
  },
  "language_info": {
   "codemirror_mode": {
    "name": "ipython",
    "version": 3
   },
   "file_extension": ".py",
   "mimetype": "text/x-python",
   "name": "python",
   "nbconvert_exporter": "python",
   "pygments_lexer": "ipython3",
   "version": "3.7.4"
  },
  "pycharm": {
   "stem_cell": {
    "cell_type": "raw",
    "metadata": {
     "collapsed": false
    },
    "source": []
   }
  }
 },
 "nbformat": 4,
 "nbformat_minor": 4
}

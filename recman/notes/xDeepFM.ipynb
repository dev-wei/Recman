{
 "cells": [
  {
   "cell_type": "markdown",
   "metadata": {},
   "source": [
    "# xDeepFM"
   ]
  },
  {
   "cell_type": "markdown",
   "metadata": {},
   "source": [
    "## Introduction\n",
    "\n",
    "It is easy to think of the model is probably composed of three parts by seeing the word xDeepFM. They are, **x**, **deep**, **fm**. Corresponding to the context of the deep neural network, **deep** stands for **multilayer perceptron**, **fm** refers to **factorization machine**. x stands for extreme. \n",
    "\n",
    "It seems that this name appears to be the enhanced version of DeepFM, but in fact, and his real first-degree close relatives should be Deep&Cross Network, then DeepFM.\n",
    "\n",
    "The structure of DeepFM is very intuitive. One of the main take-aways is that **FM** and **Deep** share the same input Embeddings."
   ]
  },
  {
   "cell_type": "markdown",
   "metadata": {},
   "source": [
    "## Motivations\n",
    "\n",
    "So what problem the xDeepFM is mainly to solve? The primary role of the DCN's Cross-layer is to construct higher-order features automatically, but they exist in a bit-wise manner. For example, assume there are two fields, Age & Occupation, let's call the embedding vector corresponding to Age Field <a1, b1, c1>, embedding vector to Occupation field <a1, a2, a3>. In DCN, the Cross-layer takes the direct input as <a1,b1,c1,a2,b2,c2>, which is simply a concatenated vector of all bits in the embedding layer, however, the correlation between the bit and the field (where \"bit\" belongs to) has to be ignored entirely. Cross-layer uses \"bit\" as the finest granularity for learning, while FM uses \"vector\" as the finest units to learn the feature to feature level correlation, i.e., vector-wise. xDeepFM is motivated to solve how to introduce the vector-wise learning, like what FM does into the cross-layer."
   ]
  },
  {
   "cell_type": "markdown",
   "metadata": {},
   "source": [
    "## Models\n",
    "\n"
   ]
  },
  {
   "cell_type": "code",
   "execution_count": null,
   "metadata": {},
   "outputs": [],
   "source": []
  }
 ],
 "metadata": {
  "kernelspec": {
   "display_name": "Python 3",
   "language": "python",
   "name": "python3"
  },
  "language_info": {
   "codemirror_mode": {
    "name": "ipython",
    "version": 3
   },
   "file_extension": ".py",
   "mimetype": "text/x-python",
   "name": "python",
   "nbconvert_exporter": "python",
   "pygments_lexer": "ipython3",
   "version": "3.7.4"
  }
 },
 "nbformat": 4,
 "nbformat_minor": 4
}
